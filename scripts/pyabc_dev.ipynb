{
 "cells": [
  {
   "cell_type": "code",
   "execution_count": 20,
   "metadata": {},
   "outputs": [],
   "source": [
    "import os\n",
    "import csv\n",
    "import pyabc\n",
    "import tempfile\n",
    "import numpy as np\n",
    "import matplotlib.pyplot as plt\n",
    "from mpi4py import MPI\n",
    "from anasazi_cpp.anasazi_model import anasazi_model"
   ]
  },
  {
   "cell_type": "code",
   "execution_count": 21,
   "metadata": {},
   "outputs": [],
   "source": [
    "target_data = []\n",
    "with open(\"../data/target_data.csv\") as csv_file:\n",
    "    csv_reader = csv.reader(csv_file, delimiter=',')\n",
    "    for row in csv_reader:\n",
    "        target_data.append(int(row[1]))\n",
    "\n",
    "observed_data = {\"population\": target_data}"
   ]
  },
  {
   "cell_type": "code",
   "execution_count": 22,
   "metadata": {},
   "outputs": [],
   "source": [
    "def model(parameters):\n",
    "    # print(\"calling model\")\n",
    "    # print(type(parameters))\n",
    "    # print(parameters['max_storage'])\n",
    "    int_params = []\n",
    "    double_params = []\n",
    "    \n",
    "    int_params.append(parameters.max_store_year)\n",
    "    int_params.append(parameters.max_storage)\n",
    "    int_params.append(parameters.household_need)\n",
    "    int_params.append(parameters.min_fission)\n",
    "    int_params.append(parameters.max_fission)\n",
    "    int_params.append(parameters.min_death)\n",
    "    int_params.append(parameters.max_death)\n",
    "    int_params.append(parameters.max_distance)\n",
    "    int_params.append(parameters.initial_min)\n",
    "    int_params.append(parameters.initial_max)\n",
    "    \n",
    "#     print(int_params)\n",
    "    \n",
    "    double_params.append(parameters.annual_variance)\n",
    "    double_params.append(parameters.spatial_variance)\n",
    "    double_params.append(parameters.fertility_prop)\n",
    "    double_params.append(parameters.harvest_adj)\n",
    "    double_params.append(parameters.new_household)\n",
    "#     print(double_params)\n",
    "    \n",
    "#   convert returned numpy array to list\n",
    "    ret  = anasazi_model(551, int_params, double_params).tolist()\n",
    "    return {\"population\": ret}"
   ]
  },
  {
   "cell_type": "code",
   "execution_count": 23,
   "metadata": {},
   "outputs": [],
   "source": [
    "def distance(x, y):\n",
    "    error = np.array([a_i - b_i for a_i, b_i in zip(x[\"population\"], y[\"population\"])])\n",
    "    rmse = np.sqrt(np.mean(error**2))\n",
    "#     print(\"******************\" + str(rmse))\n",
    "    return rmse"
   ]
  },
  {
   "cell_type": "code",
   "execution_count": 24,
   "metadata": {},
   "outputs": [],
   "source": [
    "parameter_priors = pyabc.Distribution(\n",
    "    max_store_year = pyabc.RV(\"randint\", 1, 3),\n",
    "    max_storage = pyabc.RV(\"randint\", 1400, 1600),\n",
    "    household_need = pyabc.RV(\"randint\", 700, 900),\n",
    "    min_fission = pyabc.RV(\"randint\", 16, 18),\n",
    "    max_fission = pyabc.RV(\"randint\", 25, 27),\n",
    "    min_death = pyabc.RV(\"randint\", 24, 27),\n",
    "    max_death = pyabc.RV(\"randint\", 35, 38),\n",
    "    max_distance = pyabc.RV(\"randint\", 900, 1100),\n",
    "    initial_min = pyabc.RV(\"randint\", 800, 1200),\n",
    "    initial_max = pyabc.RV(\"randint\", 1400, 1600),\n",
    "    annual_variance = pyabc.RV(\"uniform\", 0, 0.5),\n",
    "    spatial_variance = pyabc.RV(\"uniform\", 0, 0.5),\n",
    "    fertility_prop = pyabc.RV(\"uniform\", 0, 0.5),\n",
    "    harvest_adj = pyabc.RV(\"uniform\", 0, 0.5),\n",
    "    new_household = pyabc.RV(\"uniform\", 0, 0.5))    "
   ]
  },
  {
   "cell_type": "code",
   "execution_count": 25,
   "metadata": {},
   "outputs": [
    {
     "name": "stderr",
     "output_type": "stream",
     "text": [
      "INFO:Sampler:Parallelizing the sampling on 16 cores.\n",
      "INFO:History:Start <ABCSMC(id=42, start_time=2020-12-11 22:57:37.767308, end_time=None)>\n"
     ]
    }
   ],
   "source": [
    "abc = pyabc.ABCSMC(model, parameter_priors,distance)\n",
    "\n",
    "db_path = (\"sqlite:///\" +\n",
    "           os.path.join(tempfile.gettempdir(), \"test.db\"))\n",
    "history = abc.new(db_path, observed_data)"
   ]
  },
  {
   "cell_type": "code",
   "execution_count": null,
   "metadata": {},
   "outputs": [
    {
     "name": "stderr",
     "output_type": "stream",
     "text": [
      "INFO:ABC:Calibration sample before t=0.\n",
      "INFO:Epsilon:initial epsilon is 113.93318798692454\n",
      "INFO:ABC:t: 0, eps: 113.93318798692454.\n",
      "INFO:ABC:Acceptance rate: 100 / 115 = 8.6957e-01, ESS=1.0000e+02.\n",
      "INFO:ABC:t: 1, eps: 113.93318798692454.\n",
      "WARNING:pyabc.inference.util:Unusually many (model, parameter) samples have prior density zero. The transition might be inappropriate.\n",
      "WARNING:pyabc.inference.util:Unusually many (model, parameter) samples have prior density zero. The transition might be inappropriate.\n",
      "WARNING:pyabc.inference.util:Unusually many (model, parameter) samples have prior density zero. The transition might be inappropriate.\n",
      "WARNING:pyabc.inference.util:Unusually many (model, parameter) samples have prior density zero. The transition might be inappropriate.\n",
      "WARNING:pyabc.inference.util:Unusually many (model, parameter) samples have prior density zero. The transition might be inappropriate.\n",
      "WARNING:pyabc.inference.util:Unusually many (model, parameter) samples have prior density zero. The transition might be inappropriate.\n",
      "WARNING:pyabc.inference.util:Unusually many (model, parameter) samples have prior density zero. The transition might be inappropriate.\n",
      "WARNING:pyabc.inference.util:Unusually many (model, parameter) samples have prior density zero. The transition might be inappropriate.\n",
      "WARNING:pyabc.inference.util:Unusually many (model, parameter) samples have prior density zero. The transition might be inappropriate.\n",
      "WARNING:pyabc.inference.util:Unusually many (model, parameter) samples have prior density zero. The transition might be inappropriate.\n",
      "WARNING:pyabc.inference.util:Unusually many (model, parameter) samples have prior density zero. The transition might be inappropriate.\n",
      "WARNING:pyabc.inference.util:Unusually many (model, parameter) samples have prior density zero. The transition might be inappropriate.\n",
      "WARNING:pyabc.inference.util:Unusually many (model, parameter) samples have prior density zero. The transition might be inappropriate.\n",
      "WARNING:pyabc.inference.util:Unusually many (model, parameter) samples have prior density zero. The transition might be inappropriate.\n",
      "WARNING:pyabc.inference.util:Unusually many (model, parameter) samples have prior density zero. The transition might be inappropriate.\n",
      "WARNING:pyabc.inference.util:Unusually many (model, parameter) samples have prior density zero. The transition might be inappropriate.\n"
     ]
    }
   ],
   "source": [
    "history = abc.run(minimum_epsilon=0.2, max_nr_populations=3)"
   ]
  },
  {
   "cell_type": "code",
   "execution_count": 8,
   "metadata": {},
   "outputs": [
    {
     "data": {
      "text/html": [
       "<div>\n",
       "<style scoped>\n",
       "    .dataframe tbody tr th:only-of-type {\n",
       "        vertical-align: middle;\n",
       "    }\n",
       "\n",
       "    .dataframe tbody tr th {\n",
       "        vertical-align: top;\n",
       "    }\n",
       "\n",
       "    .dataframe thead th {\n",
       "        text-align: right;\n",
       "    }\n",
       "</style>\n",
       "<table border=\"1\" class=\"dataframe\">\n",
       "  <thead>\n",
       "    <tr style=\"text-align: right;\">\n",
       "      <th>m</th>\n",
       "      <th>0</th>\n",
       "    </tr>\n",
       "    <tr>\n",
       "      <th>t</th>\n",
       "      <th></th>\n",
       "    </tr>\n",
       "  </thead>\n",
       "  <tbody>\n",
       "    <tr>\n",
       "      <th>0</th>\n",
       "      <td>1.0</td>\n",
       "    </tr>\n",
       "  </tbody>\n",
       "</table>\n",
       "</div>"
      ],
      "text/plain": [
       "m    0\n",
       "t     \n",
       "0  1.0"
      ]
     },
     "execution_count": 8,
     "metadata": {},
     "output_type": "execute_result"
    }
   ],
   "source": [
    "# Evaluate the model probabililties\n",
    "model_probabilities = history.get_model_probabilities()\n",
    "model_probabilities"
   ]
  },
  {
   "cell_type": "code",
   "execution_count": 19,
   "metadata": {},
   "outputs": [
    {
     "data": {
      "image/png": "[encoded data removed]",
      "text/plain": [
       "<Figure size 432x288 with 1 Axes>"
      ]
     },
     "metadata": {
      "needs_background": "light"
     },
     "output_type": "display_data"
    }
   ],
   "source": [
    "fig, ax = plt.subplots()\n",
    "for t in range(history.max_t+1):\n",
    "    df, w = history.get_distribution(m=0, t=t)\n",
    "    pyabc.visualization.plot_kde_1d(\n",
    "        df, w,\n",
    "        xmin=0, xmax=5,\n",
    "        x=\"max_store_year\", ax=ax,\n",
    "        label=\"PDF t={}\".format(t))\n",
    "# ax.axvline(observed_data, color=\"k\", linestyle=\"dashed\");\n",
    "ax.legend();"
   ]
  },
  {
   "cell_type": "code",
   "execution_count": 17,
   "metadata": {},
   "outputs": [
    {
     "ename": "KeyError",
     "evalue": "'annual_variance'",
     "output_type": "error",
     "traceback": [
      "\u001b[0;31m---------------------------------------------------------------------------\u001b[0m",
      "\u001b[0;31mKeyError\u001b[0m                                  Traceback (most recent call last)",
      "\u001b[0;32m~/uni/agent_based_modelling/anasazi-model/calibration-env/lib/python3.8/site-packages/pandas/core/indexes/base.py\u001b[0m in \u001b[0;36mget_loc\u001b[0;34m(self, key, method, tolerance)\u001b[0m\n\u001b[1;32m   2897\u001b[0m             \u001b[0;32mtry\u001b[0m\u001b[0;34m:\u001b[0m\u001b[0;34m\u001b[0m\u001b[0;34m\u001b[0m\u001b[0m\n\u001b[0;32m-> 2898\u001b[0;31m                 \u001b[0;32mreturn\u001b[0m \u001b[0mself\u001b[0m\u001b[0;34m.\u001b[0m\u001b[0m_engine\u001b[0m\u001b[0;34m.\u001b[0m\u001b[0mget_loc\u001b[0m\u001b[0;34m(\u001b[0m\u001b[0mcasted_key\u001b[0m\u001b[0;34m)\u001b[0m\u001b[0;34m\u001b[0m\u001b[0;34m\u001b[0m\u001b[0m\n\u001b[0m\u001b[1;32m   2899\u001b[0m             \u001b[0;32mexcept\u001b[0m \u001b[0mKeyError\u001b[0m \u001b[0;32mas\u001b[0m \u001b[0merr\u001b[0m\u001b[0;34m:\u001b[0m\u001b[0;34m\u001b[0m\u001b[0;34m\u001b[0m\u001b[0m\n",
      "\u001b[0;32mpandas/_libs/index.pyx\u001b[0m in \u001b[0;36mpandas._libs.index.IndexEngine.get_loc\u001b[0;34m()\u001b[0m\n",
      "\u001b[0;32mpandas/_libs/index.pyx\u001b[0m in \u001b[0;36mpandas._libs.index.IndexEngine.get_loc\u001b[0;34m()\u001b[0m\n",
      "\u001b[0;32mpandas/_libs/hashtable_class_helper.pxi\u001b[0m in \u001b[0;36mpandas._libs.hashtable.PyObjectHashTable.get_item\u001b[0;34m()\u001b[0m\n",
      "\u001b[0;32mpandas/_libs/hashtable_class_helper.pxi\u001b[0m in \u001b[0;36mpandas._libs.hashtable.PyObjectHashTable.get_item\u001b[0;34m()\u001b[0m\n",
      "\u001b[0;31mKeyError\u001b[0m: 'annual_variance'",
      "\nThe above exception was the direct cause of the following exception:\n",
      "\u001b[0;31mKeyError\u001b[0m                                  Traceback (most recent call last)",
      "\u001b[0;32m<ipython-input-17-334b5e988c73>\u001b[0m in \u001b[0;36m<module>\u001b[0;34m\u001b[0m\n\u001b[1;32m      3\u001b[0m \u001b[0mpyabc\u001b[0m\u001b[0;34m.\u001b[0m\u001b[0mvisualization\u001b[0m\u001b[0;34m.\u001b[0m\u001b[0mplot_sample_numbers\u001b[0m\u001b[0;34m(\u001b[0m\u001b[0mhistory\u001b[0m\u001b[0;34m,\u001b[0m \u001b[0max\u001b[0m\u001b[0;34m=\u001b[0m\u001b[0marr_ax\u001b[0m\u001b[0;34m[\u001b[0m\u001b[0;36m0\u001b[0m\u001b[0;34m]\u001b[0m\u001b[0;34m[\u001b[0m\u001b[0;36m0\u001b[0m\u001b[0;34m]\u001b[0m\u001b[0;34m)\u001b[0m\u001b[0;34m\u001b[0m\u001b[0;34m\u001b[0m\u001b[0m\n\u001b[1;32m      4\u001b[0m \u001b[0mpyabc\u001b[0m\u001b[0;34m.\u001b[0m\u001b[0mvisualization\u001b[0m\u001b[0;34m.\u001b[0m\u001b[0mplot_epsilons\u001b[0m\u001b[0;34m(\u001b[0m\u001b[0mhistory\u001b[0m\u001b[0;34m,\u001b[0m \u001b[0max\u001b[0m\u001b[0;34m=\u001b[0m\u001b[0marr_ax\u001b[0m\u001b[0;34m[\u001b[0m\u001b[0;36m0\u001b[0m\u001b[0;34m]\u001b[0m\u001b[0;34m[\u001b[0m\u001b[0;36m1\u001b[0m\u001b[0;34m]\u001b[0m\u001b[0;34m)\u001b[0m\u001b[0;34m\u001b[0m\u001b[0;34m\u001b[0m\u001b[0m\n\u001b[0;32m----> 5\u001b[0;31m pyabc.visualization.plot_credible_intervals(\n\u001b[0m\u001b[1;32m      6\u001b[0m     \u001b[0mhistory\u001b[0m\u001b[0;34m,\u001b[0m \u001b[0mlevels\u001b[0m\u001b[0;34m=\u001b[0m\u001b[0;34m[\u001b[0m\u001b[0;36m0.95\u001b[0m\u001b[0;34m,\u001b[0m \u001b[0;36m0.9\u001b[0m\u001b[0;34m,\u001b[0m \u001b[0;36m0.5\u001b[0m\u001b[0;34m]\u001b[0m\u001b[0;34m,\u001b[0m \u001b[0mts\u001b[0m\u001b[0;34m=\u001b[0m\u001b[0;34m[\u001b[0m\u001b[0;36m0\u001b[0m\u001b[0;34m,\u001b[0m \u001b[0;36m1\u001b[0m\u001b[0;34m,\u001b[0m \u001b[0;36m2\u001b[0m\u001b[0;34m,\u001b[0m \u001b[0;36m3\u001b[0m\u001b[0;34m,\u001b[0m \u001b[0;36m4\u001b[0m\u001b[0;34m]\u001b[0m\u001b[0;34m,\u001b[0m\u001b[0;34m\u001b[0m\u001b[0;34m\u001b[0m\u001b[0m\n\u001b[1;32m      7\u001b[0m     \u001b[0mshow_mean\u001b[0m\u001b[0;34m=\u001b[0m\u001b[0;32mTrue\u001b[0m\u001b[0;34m,\u001b[0m \u001b[0mshow_kde_max_1d\u001b[0m\u001b[0;34m=\u001b[0m\u001b[0;32mTrue\u001b[0m\u001b[0;34m,\u001b[0m\u001b[0;34m\u001b[0m\u001b[0;34m\u001b[0m\u001b[0m\n",
      "\u001b[0;32m~/uni/agent_based_modelling/anasazi-model/calibration-env/lib/python3.8/site-packages/pyabc/visualization/credible.py\u001b[0m in \u001b[0;36mplot_credible_intervals\u001b[0;34m(history, m, ts, par_names, levels, show_mean, show_kde_max, show_kde_max_1d, size, refval, refval_color, kde, kde_1d, arr_ax)\u001b[0m\n\u001b[1;32m    118\u001b[0m         \u001b[0;32mfor\u001b[0m \u001b[0mi_par\u001b[0m\u001b[0;34m,\u001b[0m \u001b[0mpar\u001b[0m \u001b[0;32min\u001b[0m \u001b[0menumerate\u001b[0m\u001b[0;34m(\u001b[0m\u001b[0mpar_names\u001b[0m\u001b[0;34m)\u001b[0m\u001b[0;34m:\u001b[0m\u001b[0;34m\u001b[0m\u001b[0;34m\u001b[0m\u001b[0m\n\u001b[1;32m    119\u001b[0m             \u001b[0;31m# as numpy array\u001b[0m\u001b[0;34m\u001b[0m\u001b[0;34m\u001b[0m\u001b[0;34m\u001b[0m\u001b[0m\n\u001b[0;32m--> 120\u001b[0;31m             \u001b[0mvals\u001b[0m \u001b[0;34m=\u001b[0m \u001b[0mnp\u001b[0m\u001b[0;34m.\u001b[0m\u001b[0marray\u001b[0m\u001b[0;34m(\u001b[0m\u001b[0mdf\u001b[0m\u001b[0;34m[\u001b[0m\u001b[0mpar\u001b[0m\u001b[0;34m]\u001b[0m\u001b[0;34m)\u001b[0m\u001b[0;34m\u001b[0m\u001b[0;34m\u001b[0m\u001b[0m\n\u001b[0m\u001b[1;32m    121\u001b[0m             \u001b[0;31m# median\u001b[0m\u001b[0;34m\u001b[0m\u001b[0;34m\u001b[0m\u001b[0;34m\u001b[0m\u001b[0m\n\u001b[1;32m    122\u001b[0m             \u001b[0mmedian\u001b[0m\u001b[0;34m[\u001b[0m\u001b[0mi_par\u001b[0m\u001b[0;34m,\u001b[0m \u001b[0mi_t\u001b[0m\u001b[0;34m]\u001b[0m \u001b[0;34m=\u001b[0m \u001b[0mcompute_quantile\u001b[0m\u001b[0;34m(\u001b[0m\u001b[0mvals\u001b[0m\u001b[0;34m,\u001b[0m \u001b[0mw\u001b[0m\u001b[0;34m,\u001b[0m \u001b[0;36m0.5\u001b[0m\u001b[0;34m)\u001b[0m\u001b[0;34m\u001b[0m\u001b[0;34m\u001b[0m\u001b[0m\n",
      "\u001b[0;32m~/uni/agent_based_modelling/anasazi-model/calibration-env/lib/python3.8/site-packages/pandas/core/frame.py\u001b[0m in \u001b[0;36m__getitem__\u001b[0;34m(self, key)\u001b[0m\n\u001b[1;32m   2904\u001b[0m             \u001b[0;32mif\u001b[0m \u001b[0mself\u001b[0m\u001b[0;34m.\u001b[0m\u001b[0mcolumns\u001b[0m\u001b[0;34m.\u001b[0m\u001b[0mnlevels\u001b[0m \u001b[0;34m>\u001b[0m \u001b[0;36m1\u001b[0m\u001b[0;34m:\u001b[0m\u001b[0;34m\u001b[0m\u001b[0;34m\u001b[0m\u001b[0m\n\u001b[1;32m   2905\u001b[0m                 \u001b[0;32mreturn\u001b[0m \u001b[0mself\u001b[0m\u001b[0;34m.\u001b[0m\u001b[0m_getitem_multilevel\u001b[0m\u001b[0;34m(\u001b[0m\u001b[0mkey\u001b[0m\u001b[0;34m)\u001b[0m\u001b[0;34m\u001b[0m\u001b[0;34m\u001b[0m\u001b[0m\n\u001b[0;32m-> 2906\u001b[0;31m             \u001b[0mindexer\u001b[0m \u001b[0;34m=\u001b[0m \u001b[0mself\u001b[0m\u001b[0;34m.\u001b[0m\u001b[0mcolumns\u001b[0m\u001b[0;34m.\u001b[0m\u001b[0mget_loc\u001b[0m\u001b[0;34m(\u001b[0m\u001b[0mkey\u001b[0m\u001b[0;34m)\u001b[0m\u001b[0;34m\u001b[0m\u001b[0;34m\u001b[0m\u001b[0m\n\u001b[0m\u001b[1;32m   2907\u001b[0m             \u001b[0;32mif\u001b[0m \u001b[0mis_integer\u001b[0m\u001b[0;34m(\u001b[0m\u001b[0mindexer\u001b[0m\u001b[0;34m)\u001b[0m\u001b[0;34m:\u001b[0m\u001b[0;34m\u001b[0m\u001b[0;34m\u001b[0m\u001b[0m\n\u001b[1;32m   2908\u001b[0m                 \u001b[0mindexer\u001b[0m \u001b[0;34m=\u001b[0m \u001b[0;34m[\u001b[0m\u001b[0mindexer\u001b[0m\u001b[0;34m]\u001b[0m\u001b[0;34m\u001b[0m\u001b[0;34m\u001b[0m\u001b[0m\n",
      "\u001b[0;32m~/uni/agent_based_modelling/anasazi-model/calibration-env/lib/python3.8/site-packages/pandas/core/indexes/base.py\u001b[0m in \u001b[0;36mget_loc\u001b[0;34m(self, key, method, tolerance)\u001b[0m\n\u001b[1;32m   2898\u001b[0m                 \u001b[0;32mreturn\u001b[0m \u001b[0mself\u001b[0m\u001b[0;34m.\u001b[0m\u001b[0m_engine\u001b[0m\u001b[0;34m.\u001b[0m\u001b[0mget_loc\u001b[0m\u001b[0;34m(\u001b[0m\u001b[0mcasted_key\u001b[0m\u001b[0;34m)\u001b[0m\u001b[0;34m\u001b[0m\u001b[0;34m\u001b[0m\u001b[0m\n\u001b[1;32m   2899\u001b[0m             \u001b[0;32mexcept\u001b[0m \u001b[0mKeyError\u001b[0m \u001b[0;32mas\u001b[0m \u001b[0merr\u001b[0m\u001b[0;34m:\u001b[0m\u001b[0;34m\u001b[0m\u001b[0;34m\u001b[0m\u001b[0m\n\u001b[0;32m-> 2900\u001b[0;31m                 \u001b[0;32mraise\u001b[0m \u001b[0mKeyError\u001b[0m\u001b[0;34m(\u001b[0m\u001b[0mkey\u001b[0m\u001b[0;34m)\u001b[0m \u001b[0;32mfrom\u001b[0m \u001b[0merr\u001b[0m\u001b[0;34m\u001b[0m\u001b[0;34m\u001b[0m\u001b[0m\n\u001b[0m\u001b[1;32m   2901\u001b[0m \u001b[0;34m\u001b[0m\u001b[0m\n\u001b[1;32m   2902\u001b[0m         \u001b[0;32mif\u001b[0m \u001b[0mtolerance\u001b[0m \u001b[0;32mis\u001b[0m \u001b[0;32mnot\u001b[0m \u001b[0;32mNone\u001b[0m\u001b[0;34m:\u001b[0m\u001b[0;34m\u001b[0m\u001b[0;34m\u001b[0m\u001b[0m\n",
      "\u001b[0;31mKeyError\u001b[0m: 'annual_variance'"
     ]
    },
    {
     "data": {
      "image/png": "[encoded data removed]",
      "text/plain": [
       "<Figure size 432x288 with 4 Axes>"
      ]
     },
     "metadata": {
      "needs_background": "light"
     },
     "output_type": "display_data"
    }
   ],
   "source": [
    "_, arr_ax = plt.subplots(2, 2)\n",
    "\n",
    "pyabc.visualization.plot_sample_numbers(history, ax=arr_ax[0][0])\n",
    "pyabc.visualization.plot_epsilons(history, ax=arr_ax[0][1])\n",
    "pyabc.visualization.plot_credible_intervals(\n",
    "    history, levels=[0.95, 0.9, 0.5], ts=[0, 1, 2, 3, 4],\n",
    "    show_mean=True, show_kde_max_1d=True,\n",
    "    refval={'max_store_year': 2.5}, arr_ax=arr_ax[1][0])\n",
    "pyabc.visualization.plot_effective_sample_sizes(history, ax=arr_ax[1][1])\n",
    "\n",
    "plt.gcf().set_size_inches((12, 8))\n",
    "plt.gcf().tight_layout()"
   ]
  }
 ],
 "metadata": {
  "kernelspec": {
   "display_name": "Python 3",
   "language": "python",
   "name": "python3"
  },
  "language_info": {
   "codemirror_mode": {
    "name": "ipython",
    "version": 3
   },
   "file_extension": ".py",
   "mimetype": "text/x-python",
   "name": "python",
   "nbconvert_exporter": "python",
   "pygments_lexer": "ipython3",
   "version": "3.8.5"
  }
 },
 "nbformat": 4,
 "nbformat_minor": 4
}
