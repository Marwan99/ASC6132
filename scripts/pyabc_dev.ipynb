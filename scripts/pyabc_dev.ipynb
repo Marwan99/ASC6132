{
 "cells": [
  {
   "cell_type": "code",
   "execution_count": null,
   "metadata": {
    "scrolled": true
   },
   "outputs": [
    {
     "name": "stderr",
     "output_type": "stream",
     "text": [
      "INFO:Sampler:Parallelizing the sampling on 12 cores.\n",
      "INFO:History:Start <ABCSMC(id=56, start_time=2020-12-17 04:12:51.247046, end_time=None)>\n",
      "INFO:ABC:Calibration sample before t=0.\n",
      "INFO:Epsilon:initial epsilon is 111.68928087688147\n",
      "INFO:ABC:t: 0, eps: 111.68928087688147.\n",
      "INFO:ABC:Acceptance rate: 15 / 29 = 5.1724e-01, ESS=1.5000e+01.\n",
      "INFO:ABC:t: 1, eps: 80.81376048574617.\n"
     ]
    }
   ],
   "source": [
    "run pyabc_calib.py"
   ]
  },
  {
   "cell_type": "code",
   "execution_count": 17,
   "metadata": {},
   "outputs": [
    {
     "data": {
      "text/plain": [
       "(name   annual_variance  fertility_prop  harvest_adj  household_need  \\\n",
       " id                                                                    \n",
       " 28619         0.433691        0.317168     0.338045      707.216188   \n",
       " 28620         0.264123        0.214395     0.306272      714.868857   \n",
       " 28621         0.461492        0.192723     0.210952      714.457774   \n",
       " 28622         0.257232        0.214317     0.330720      714.124653   \n",
       " 28623         0.355556        0.400512     0.436051      702.145813   \n",
       " ...                ...             ...          ...             ...   \n",
       " 28714         0.129147        0.168780     0.319313      717.962495   \n",
       " 28715         0.238331        0.202170     0.289799      715.819678   \n",
       " 28716         0.290551        0.163923     0.237664      717.183000   \n",
       " 28717         0.314811        0.232264     0.290567      714.100999   \n",
       " 28718         0.200650        0.168225     0.315555      717.762107   \n",
       " \n",
       " name   initial_max  initial_min  max_death  max_distance  max_fission  \\\n",
       " id                                                                      \n",
       " 28619  1410.449755  1064.636934  35.860366    931.805123    26.021624   \n",
       " 28620  1504.083848  1016.847867  35.928780   1030.389500    26.529686   \n",
       " 28621  1414.871287   966.058775  35.704299    963.212268    26.456049   \n",
       " 28622  1501.844419  1019.250028  35.914543   1020.342054    26.439222   \n",
       " 28623  1409.941669  1118.852256  36.223184    917.476176    25.626080   \n",
       " ...            ...          ...        ...           ...          ...   \n",
       " 28714  1561.400015  1004.200825  36.149885   1083.216734    26.682169   \n",
       " 28715  1527.539315  1019.724365  36.029278   1052.515528    26.649926   \n",
       " 28716  1515.545831   989.396731  35.964544   1049.783546    26.742510   \n",
       " 28717  1476.533287  1012.251608  35.864554   1006.712847    26.454692   \n",
       " 28718  1533.843837  1002.711229  35.874872   1057.272573    26.667273   \n",
       " \n",
       " name   max_storage  max_store_year  min_death  min_fission  new_household  \\\n",
       " id                                                                          \n",
       " 28619  1514.285191        2.413901  26.049347    17.386868       0.353244   \n",
       " 28620  1497.044397        1.726148  27.541841    16.925397       0.367697   \n",
       " 28621  1532.470821        2.177522  25.323613    17.130272       0.367301   \n",
       " 28622  1495.157828        1.816474  27.245040    16.919762       0.395887   \n",
       " 28623  1496.430988        2.558320  26.784303    17.688594       0.334567   \n",
       " ...            ...             ...        ...          ...            ...   \n",
       " 28714  1481.272807        1.397539  28.443103    16.652469       0.387248   \n",
       " 28715  1495.587165        1.562694  27.985471    16.710986       0.345089   \n",
       " 28716  1505.082073        1.583905  27.387590    16.609194       0.342348   \n",
       " 28717  1508.372247        1.860338  27.109546    17.081210       0.354201   \n",
       " 28718  1487.704884        1.574697  27.657231    16.744554       0.425441   \n",
       " \n",
       " name   spatial_variance  \n",
       " id                       \n",
       " 28619          0.296821  \n",
       " 28620          0.134238  \n",
       " 28621          0.167782  \n",
       " 28622          0.163073  \n",
       " 28623          0.388288  \n",
       " ...                 ...  \n",
       " 28714          0.069604  \n",
       " 28715          0.093268  \n",
       " 28716          0.068341  \n",
       " 28717          0.156555  \n",
       " 28718          0.097457  \n",
       " \n",
       " [100 rows x 15 columns],\n",
       " array([7.75075689e-05, 8.26979635e-06, 8.62506419e-02, 2.00288185e-05,\n",
       "        2.12540606e-02, 8.18078535e-02, 1.06954511e-02, 1.66619434e-03,\n",
       "        1.00990937e-04, 6.12592849e-04, 1.50827309e-04, 8.50494499e-04,\n",
       "        1.02428037e-01, 1.36406359e-01, 1.53319159e-04, 6.19497065e-04,\n",
       "        1.82056993e-04, 2.19560220e-05, 1.14245221e-03, 3.80746332e-05,\n",
       "        1.47640771e-04, 1.06194737e-03, 6.62005165e-04, 7.96587565e-04,\n",
       "        1.97638533e-03, 1.33162332e-02, 5.09779239e-04, 5.56940114e-03,\n",
       "        3.67938595e-05, 8.05208434e-03, 4.70153470e-02, 7.16006744e-05,\n",
       "        1.32683318e-04, 5.53460227e-04, 5.39787713e-04, 1.02185283e-02,\n",
       "        1.67226542e-03, 7.54956240e-04, 5.78532535e-05, 1.44257780e-03,\n",
       "        2.01170709e-04, 4.86693494e-04, 6.38874878e-04, 1.44031379e-05,\n",
       "        2.52870611e-01, 1.07206784e-04, 3.87514548e-05, 1.87780847e-03,\n",
       "        1.19039604e-04, 2.52101454e-05, 1.93993662e-04, 6.65038896e-04,\n",
       "        2.59077182e-05, 4.84066171e-05, 2.26625388e-05, 5.16690530e-04,\n",
       "        1.75614233e-04, 6.78602523e-03, 6.03496307e-05, 1.44301409e-05,\n",
       "        2.76108623e-05, 6.05441643e-04, 4.06985583e-04, 8.40002197e-04,\n",
       "        7.32475541e-03, 1.34123299e-04, 1.19490278e-04, 7.11697301e-02,\n",
       "        5.90500232e-04, 1.15925137e-04, 9.04753402e-03, 6.53316930e-05,\n",
       "        9.22186551e-04, 3.03524228e-03, 1.37359623e-03, 2.46879139e-04,\n",
       "        1.81649339e-03, 7.43289126e-05, 6.92139412e-05, 1.95428878e-05,\n",
       "        1.96153869e-04, 5.07384836e-05, 3.32336733e-02, 4.51735428e-04,\n",
       "        5.69434247e-05, 1.24992616e-04, 1.17838388e-03, 1.96111947e-04,\n",
       "        1.02310408e-04, 5.91590464e-03, 1.35569180e-05, 4.79738884e-02,\n",
       "        2.40428698e-03, 2.24580977e-03, 5.75517501e-04, 2.70757741e-04,\n",
       "        1.53294361e-04, 2.78193711e-03, 6.97964872e-05, 3.58211926e-05]))"
      ]
     },
     "execution_count": 17,
     "metadata": {},
     "output_type": "execute_result"
    }
   ],
   "source": [
    "history.get_distribution()"
   ]
  },
  {
   "cell_type": "code",
   "execution_count": 27,
   "metadata": {
    "scrolled": true
   },
   "outputs": [
    {
     "name": "stdout",
     "output_type": "stream",
     "text": [
      "10\n"
     ]
    },
    {
     "ename": "TypeError",
     "evalue": "plot_kde_1d() missing 1 required positional argument: 'x'",
     "output_type": "error",
     "traceback": [
      "\u001b[0;31m---------------------------------------------------------------------------\u001b[0m",
      "\u001b[0;31mTypeError\u001b[0m                                 Traceback (most recent call last)",
      "\u001b[0;32m<ipython-input-27-9f1438366b16>\u001b[0m in \u001b[0;36m<module>\u001b[0;34m\u001b[0m\n\u001b[1;32m      8\u001b[0m         \u001b[0mdf\u001b[0m\u001b[0;34m,\u001b[0m \u001b[0mw\u001b[0m\u001b[0;34m,\u001b[0m\u001b[0;34m\u001b[0m\u001b[0;34m\u001b[0m\u001b[0m\n\u001b[1;32m      9\u001b[0m         \u001b[0mxmin\u001b[0m\u001b[0;34m=\u001b[0m\u001b[0;36m0\u001b[0m\u001b[0;34m,\u001b[0m \u001b[0mxmax\u001b[0m\u001b[0;34m=\u001b[0m\u001b[0;36m5\u001b[0m\u001b[0;34m,\u001b[0m \u001b[0max\u001b[0m\u001b[0;34m=\u001b[0m\u001b[0max\u001b[0m\u001b[0;34m,\u001b[0m\u001b[0;34m\u001b[0m\u001b[0;34m\u001b[0m\u001b[0m\n\u001b[0;32m---> 10\u001b[0;31m         label=\"PDF t={}\".format(t))\n\u001b[0m\u001b[1;32m     11\u001b[0m \u001b[0max\u001b[0m\u001b[0;34m.\u001b[0m\u001b[0maxvline\u001b[0m\u001b[0;34m(\u001b[0m\u001b[0mcolor\u001b[0m\u001b[0;34m=\u001b[0m\u001b[0;34m\"k\"\u001b[0m\u001b[0;34m,\u001b[0m \u001b[0mlinestyle\u001b[0m\u001b[0;34m=\u001b[0m\u001b[0;34m\"dashed\"\u001b[0m\u001b[0;34m)\u001b[0m\u001b[0;34m;\u001b[0m\u001b[0;34m\u001b[0m\u001b[0;34m\u001b[0m\u001b[0m\n\u001b[1;32m     12\u001b[0m \u001b[0max\u001b[0m\u001b[0;34m.\u001b[0m\u001b[0mlegend\u001b[0m\u001b[0;34m(\u001b[0m\u001b[0;34m)\u001b[0m\u001b[0;34m;\u001b[0m\u001b[0;34m\u001b[0m\u001b[0;34m\u001b[0m\u001b[0m\n",
      "\u001b[0;31mTypeError\u001b[0m: plot_kde_1d() missing 1 required positional argument: 'x'"
     ]
    },
    {
     "data": {
      "image/png": "[encoded data removed]",
      "text/plain": [
       "<Figure size 432x288 with 1 Axes>"
      ]
     },
     "metadata": {
      "needs_background": "light"
     },
     "output_type": "display_data"
    }
   ],
   "source": [
    "import matplotlib.pyplot as plt\n",
    "\n",
    "fig, ax = plt.subplots()\n",
    "print(history.max_t+1)\n",
    "for t in range(history.max_t+1):\n",
    "    df, w = history.get_distribution(m=0, t=t)\n",
    "    pyabc.visualization.plot_kde_1d(\n",
    "        df, w,\n",
    "        xmin=0, xmax=5,\n",
    "        x=\"min_death\", ax=ax,\n",
    "        label=\"PDF t={}\".format(t))\n",
    "ax.axvline(color=\"k\", linestyle=\"dashed\");\n",
    "ax.legend();"
   ]
  },
  {
   "cell_type": "code",
   "execution_count": 14,
   "metadata": {},
   "outputs": [
    {
     "data": {
      "text/html": [
       "<div>\n",
       "<style scoped>\n",
       "    .dataframe tbody tr th:only-of-type {\n",
       "        vertical-align: middle;\n",
       "    }\n",
       "\n",
       "    .dataframe tbody tr th {\n",
       "        vertical-align: top;\n",
       "    }\n",
       "\n",
       "    .dataframe thead th {\n",
       "        text-align: right;\n",
       "    }\n",
       "</style>\n",
       "<table border=\"1\" class=\"dataframe\">\n",
       "  <thead>\n",
       "    <tr style=\"text-align: right;\">\n",
       "      <th></th>\n",
       "      <th>distance</th>\n",
       "      <th>w</th>\n",
       "    </tr>\n",
       "  </thead>\n",
       "  <tbody>\n",
       "    <tr>\n",
       "      <th>0</th>\n",
       "      <td>113.916278</td>\n",
       "      <td>0.000078</td>\n",
       "    </tr>\n",
       "    <tr>\n",
       "      <th>1</th>\n",
       "      <td>113.933188</td>\n",
       "      <td>0.000008</td>\n",
       "    </tr>\n",
       "    <tr>\n",
       "      <th>2</th>\n",
       "      <td>113.933188</td>\n",
       "      <td>0.086251</td>\n",
       "    </tr>\n",
       "    <tr>\n",
       "      <th>3</th>\n",
       "      <td>113.933188</td>\n",
       "      <td>0.000020</td>\n",
       "    </tr>\n",
       "    <tr>\n",
       "      <th>4</th>\n",
       "      <td>113.901763</td>\n",
       "      <td>0.021254</td>\n",
       "    </tr>\n",
       "    <tr>\n",
       "      <th>...</th>\n",
       "      <td>...</td>\n",
       "      <td>...</td>\n",
       "    </tr>\n",
       "    <tr>\n",
       "      <th>95</th>\n",
       "      <td>113.933188</td>\n",
       "      <td>0.000271</td>\n",
       "    </tr>\n",
       "    <tr>\n",
       "      <th>96</th>\n",
       "      <td>113.933188</td>\n",
       "      <td>0.000153</td>\n",
       "    </tr>\n",
       "    <tr>\n",
       "      <th>97</th>\n",
       "      <td>113.933188</td>\n",
       "      <td>0.002782</td>\n",
       "    </tr>\n",
       "    <tr>\n",
       "      <th>98</th>\n",
       "      <td>113.933188</td>\n",
       "      <td>0.000070</td>\n",
       "    </tr>\n",
       "    <tr>\n",
       "      <th>99</th>\n",
       "      <td>113.933188</td>\n",
       "      <td>0.000036</td>\n",
       "    </tr>\n",
       "  </tbody>\n",
       "</table>\n",
       "<p>100 rows × 2 columns</p>\n",
       "</div>"
      ],
      "text/plain": [
       "      distance         w\n",
       "0   113.916278  0.000078\n",
       "1   113.933188  0.000008\n",
       "2   113.933188  0.086251\n",
       "3   113.933188  0.000020\n",
       "4   113.901763  0.021254\n",
       "..         ...       ...\n",
       "95  113.933188  0.000271\n",
       "96  113.933188  0.000153\n",
       "97  113.933188  0.002782\n",
       "98  113.933188  0.000070\n",
       "99  113.933188  0.000036\n",
       "\n",
       "[100 rows x 2 columns]"
      ]
     },
     "execution_count": 14,
     "metadata": {},
     "output_type": "execute_result"
    }
   ],
   "source": [
    "history.get_weighted_distances()"
   ]
  },
  {
   "cell_type": "code",
   "execution_count": 15,
   "metadata": {},
   "outputs": [
    {
     "data": {
      "text/html": [
       "<div>\n",
       "<style scoped>\n",
       "    .dataframe tbody tr th:only-of-type {\n",
       "        vertical-align: middle;\n",
       "    }\n",
       "\n",
       "    .dataframe tbody tr th {\n",
       "        vertical-align: top;\n",
       "    }\n",
       "\n",
       "    .dataframe thead th {\n",
       "        text-align: right;\n",
       "    }\n",
       "</style>\n",
       "<table border=\"1\" class=\"dataframe\">\n",
       "  <thead>\n",
       "    <tr style=\"text-align: right;\">\n",
       "      <th></th>\n",
       "      <th>t</th>\n",
       "      <th>population_end_time</th>\n",
       "      <th>samples</th>\n",
       "      <th>epsilon</th>\n",
       "      <th>particles</th>\n",
       "    </tr>\n",
       "  </thead>\n",
       "  <tbody>\n",
       "    <tr>\n",
       "      <th>0</th>\n",
       "      <td>-1</td>\n",
       "      <td>2020-12-16 16:28:38.941160</td>\n",
       "      <td>100</td>\n",
       "      <td>inf</td>\n",
       "      <td>1</td>\n",
       "    </tr>\n",
       "    <tr>\n",
       "      <th>1</th>\n",
       "      <td>0</td>\n",
       "      <td>2020-12-16 16:34:24.885537</td>\n",
       "      <td>111</td>\n",
       "      <td>113.933188</td>\n",
       "      <td>100</td>\n",
       "    </tr>\n",
       "    <tr>\n",
       "      <th>2</th>\n",
       "      <td>1</td>\n",
       "      <td>2020-12-16 16:37:14.646027</td>\n",
       "      <td>111</td>\n",
       "      <td>113.933188</td>\n",
       "      <td>100</td>\n",
       "    </tr>\n",
       "    <tr>\n",
       "      <th>3</th>\n",
       "      <td>2</td>\n",
       "      <td>2020-12-16 16:40:05.518305</td>\n",
       "      <td>111</td>\n",
       "      <td>113.933188</td>\n",
       "      <td>100</td>\n",
       "    </tr>\n",
       "    <tr>\n",
       "      <th>4</th>\n",
       "      <td>3</td>\n",
       "      <td>2020-12-16 16:43:08.682985</td>\n",
       "      <td>111</td>\n",
       "      <td>113.933188</td>\n",
       "      <td>100</td>\n",
       "    </tr>\n",
       "    <tr>\n",
       "      <th>5</th>\n",
       "      <td>4</td>\n",
       "      <td>2020-12-16 16:45:42.820327</td>\n",
       "      <td>111</td>\n",
       "      <td>113.933188</td>\n",
       "      <td>100</td>\n",
       "    </tr>\n",
       "    <tr>\n",
       "      <th>6</th>\n",
       "      <td>5</td>\n",
       "      <td>2020-12-16 16:48:27.670711</td>\n",
       "      <td>111</td>\n",
       "      <td>113.933188</td>\n",
       "      <td>100</td>\n",
       "    </tr>\n",
       "    <tr>\n",
       "      <th>7</th>\n",
       "      <td>6</td>\n",
       "      <td>2020-12-16 16:51:06.877559</td>\n",
       "      <td>111</td>\n",
       "      <td>113.933188</td>\n",
       "      <td>100</td>\n",
       "    </tr>\n",
       "    <tr>\n",
       "      <th>8</th>\n",
       "      <td>7</td>\n",
       "      <td>2020-12-16 16:54:21.883083</td>\n",
       "      <td>111</td>\n",
       "      <td>113.933188</td>\n",
       "      <td>100</td>\n",
       "    </tr>\n",
       "    <tr>\n",
       "      <th>9</th>\n",
       "      <td>8</td>\n",
       "      <td>2020-12-16 16:56:57.514236</td>\n",
       "      <td>111</td>\n",
       "      <td>113.933188</td>\n",
       "      <td>100</td>\n",
       "    </tr>\n",
       "    <tr>\n",
       "      <th>10</th>\n",
       "      <td>9</td>\n",
       "      <td>2020-12-16 16:59:38.842084</td>\n",
       "      <td>111</td>\n",
       "      <td>113.933188</td>\n",
       "      <td>100</td>\n",
       "    </tr>\n",
       "  </tbody>\n",
       "</table>\n",
       "</div>"
      ],
      "text/plain": [
       "    t        population_end_time  samples     epsilon  particles\n",
       "0  -1 2020-12-16 16:28:38.941160      100         inf          1\n",
       "1   0 2020-12-16 16:34:24.885537      111  113.933188        100\n",
       "2   1 2020-12-16 16:37:14.646027      111  113.933188        100\n",
       "3   2 2020-12-16 16:40:05.518305      111  113.933188        100\n",
       "4   3 2020-12-16 16:43:08.682985      111  113.933188        100\n",
       "5   4 2020-12-16 16:45:42.820327      111  113.933188        100\n",
       "6   5 2020-12-16 16:48:27.670711      111  113.933188        100\n",
       "7   6 2020-12-16 16:51:06.877559      111  113.933188        100\n",
       "8   7 2020-12-16 16:54:21.883083      111  113.933188        100\n",
       "9   8 2020-12-16 16:56:57.514236      111  113.933188        100\n",
       "10  9 2020-12-16 16:59:38.842084      111  113.933188        100"
      ]
     },
     "execution_count": 15,
     "metadata": {},
     "output_type": "execute_result"
    }
   ],
   "source": [
    "history.get_all_populations()"
   ]
  },
  {
   "cell_type": "code",
   "execution_count": 16,
   "metadata": {},
   "outputs": [
    {
     "data": {
      "text/html": [
       "<div>\n",
       "<style scoped>\n",
       "    .dataframe tbody tr th:only-of-type {\n",
       "        vertical-align: middle;\n",
       "    }\n",
       "\n",
       "    .dataframe tbody tr th {\n",
       "        vertical-align: top;\n",
       "    }\n",
       "\n",
       "    .dataframe thead th {\n",
       "        text-align: right;\n",
       "    }\n",
       "</style>\n",
       "<table border=\"1\" class=\"dataframe\">\n",
       "  <thead>\n",
       "    <tr style=\"text-align: right;\">\n",
       "      <th>m</th>\n",
       "      <th>0</th>\n",
       "    </tr>\n",
       "    <tr>\n",
       "      <th>t</th>\n",
       "      <th></th>\n",
       "    </tr>\n",
       "  </thead>\n",
       "  <tbody>\n",
       "    <tr>\n",
       "      <th>0</th>\n",
       "      <td>1.0</td>\n",
       "    </tr>\n",
       "    <tr>\n",
       "      <th>1</th>\n",
       "      <td>1.0</td>\n",
       "    </tr>\n",
       "    <tr>\n",
       "      <th>2</th>\n",
       "      <td>1.0</td>\n",
       "    </tr>\n",
       "    <tr>\n",
       "      <th>3</th>\n",
       "      <td>1.0</td>\n",
       "    </tr>\n",
       "    <tr>\n",
       "      <th>4</th>\n",
       "      <td>1.0</td>\n",
       "    </tr>\n",
       "    <tr>\n",
       "      <th>5</th>\n",
       "      <td>1.0</td>\n",
       "    </tr>\n",
       "    <tr>\n",
       "      <th>6</th>\n",
       "      <td>1.0</td>\n",
       "    </tr>\n",
       "    <tr>\n",
       "      <th>7</th>\n",
       "      <td>1.0</td>\n",
       "    </tr>\n",
       "    <tr>\n",
       "      <th>8</th>\n",
       "      <td>1.0</td>\n",
       "    </tr>\n",
       "    <tr>\n",
       "      <th>9</th>\n",
       "      <td>1.0</td>\n",
       "    </tr>\n",
       "  </tbody>\n",
       "</table>\n",
       "</div>"
      ],
      "text/plain": [
       "m    0\n",
       "t     \n",
       "0  1.0\n",
       "1  1.0\n",
       "2  1.0\n",
       "3  1.0\n",
       "4  1.0\n",
       "5  1.0\n",
       "6  1.0\n",
       "7  1.0\n",
       "8  1.0\n",
       "9  1.0"
      ]
     },
     "execution_count": 16,
     "metadata": {},
     "output_type": "execute_result"
    }
   ],
   "source": [
    "history.get_model_probabilities()"
   ]
  },
  {
   "cell_type": "code",
   "execution_count": 25,
   "metadata": {},
   "outputs": [
    {
     "data": {
      "image/png": "[encoded data removed]",
      "text/plain": [
       "<Figure size 864x576 with 4 Axes>"
      ]
     },
     "metadata": {
      "needs_background": "light"
     },
     "output_type": "display_data"
    }
   ],
   "source": [
    "_, arr_ax = plt.subplots(2, 2)\n",
    "\n",
    "pyabc.visualization.plot_sample_numbers(history, ax=arr_ax[0][0])\n",
    "pyabc.visualization.plot_epsilons(history, ax=arr_ax[0][1])\n",
    "pyabc.visualization.plot_credible_intervals(\n",
    "    history, levels=[0.95, 0.9, 0.5], ts=[0, 1, 2, 3, 4],\n",
    "    show_mean=True, show_kde_max_1d=True, arr_ax=arr_ax[1][0])\n",
    "pyabc.visualization.plot_effective_sample_sizes(history, ax=arr_ax[1][1])\n",
    "\n",
    "plt.gcf().set_size_inches((12, 8))\n",
    "plt.gcf().tight_layout()"
   ]
  },
  {
   "cell_type": "code",
   "execution_count": 36,
   "metadata": {},
   "outputs": [
    {
     "data": {
      "image/png": "[encoded data removed]",
      "text/plain": [
       "<Figure size 432x288 with 1 Axes>"
      ]
     },
     "metadata": {
      "needs_background": "light"
     },
     "output_type": "display_data"
    }
   ],
   "source": [
    "from pyabc.visualization import plot_kde_2d, plot_data_callback\n",
    "\n",
    "_, ax = plt.subplots()\n",
    "measurement_times = np.arange(len(target_data))\n",
    "def plot_data(sum_stat, weight, ax, **kwargs):\n",
    "    \"\"\"Plot a single trajectory\"\"\"\n",
    "    ax.plot(measurement_times, sum_stat['population'], color='grey', alpha=0.1)\n",
    "\n",
    "def plot_mean(sum_stats, weights, ax, **kwargs):\n",
    "    \"\"\"Plot mean over all samples\"\"\"\n",
    "    weights = np.array(weights)\n",
    "    weights /= weights.sum()\n",
    "    data = np.array([sum_stat['population'] for sum_stat in sum_stats])\n",
    "    mean = (data * weights.reshape((-1, 1))).sum(axis=0)\n",
    "    ax.plot(measurement_times, mean, color='C2', label='Sample mean')\n",
    "\n",
    "ax = plot_data_callback(history, plot_data, plot_mean, ax=ax)\n",
    "\n",
    "plt.plot(target_data, color=\"C0\", label='Simulation')\n",
    "plt.scatter(measurement_times, target_data,\n",
    "            color=\"C1\", label='Data')\n",
    "plt.xlabel('Time $t$')\n",
    "plt.ylabel('Measurement $Y$')\n",
    "plt.title('Conversion reaction: Simulated data fit')\n",
    "plt.legend()\n",
    "plt.show()"
   ]
  }
 ],
 "metadata": {
  "kernelspec": {
   "display_name": "Python 3",
   "language": "python",
   "name": "python3"
  },
  "language_info": {
   "codemirror_mode": {
    "name": "ipython",
    "version": 3
   },
   "file_extension": ".py",
   "mimetype": "text/x-python",
   "name": "python",
   "nbconvert_exporter": "python",
   "pygments_lexer": "ipython3",
   "version": "3.6.9"
  }
 },
 "nbformat": 4,
 "nbformat_minor": 4
}
